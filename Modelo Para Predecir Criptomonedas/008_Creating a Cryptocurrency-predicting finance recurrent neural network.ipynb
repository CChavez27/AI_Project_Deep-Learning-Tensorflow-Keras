{
 "cells": [
  {
   "cell_type": "code",
   "execution_count": 16,
   "id": "c48e142d-0aa8-4f0e-92f1-ddfa78268123",
   "metadata": {
    "scrolled": true
   },
   "outputs": [
    {
     "name": "stdout",
     "output_type": "stream",
     "text": [
      "BTC\n",
      "DOGE\n",
      "ETH\n",
      "QTU\n",
      "            DOGE_close    future\n",
      "time                            \n",
      "1715356800    0.144841  0.144067\n",
      "1715356860    0.144513  0.143458\n",
      "1715356920    0.144437  0.143589\n",
      "1715356980    0.144207  0.143913\n",
      "1715357040    0.144067  0.144547\n"
     ]
    }
   ],
   "source": [
    "#pip install openpyxl\n",
    "import pandas as pd  # Importar pandas, una biblioteca de análisis de datos en Python.\n",
    "import os  # Importar el módulo os para interactuar con el sistema operativo.\n",
    "\n",
    "# Longitud de la secuencia precedente para recolectar para la RNN\n",
    "SEQ_LEN = 120\n",
    "\n",
    "# Cuánto tiempo en el futuro estamos tratando de predecir\n",
    "FUTURE_PERIOD_PREDICT = 4\n",
    "\n",
    "# El ratio que queremos predecir\n",
    "RATIO_TO_PREDICT = \"DOGE\"\n",
    "\n",
    "# Función para clasificar si el valor futuro es mayor que el valor actual\n",
    "def classify(current, future):\n",
    "    if float(future) > float(current):\n",
    "        return 1\n",
    "    else:\n",
    "        return 0\n",
    "\n",
    "# Uso de una cadena sin procesar para evitar errores de escape de unicode\n",
    "file_path = r\"C:\\Users\\CRISTIAN CHAVEZ\\Documents\\GitHub\\AI_Project_Deep-Learning-Tensorflow-Keras\\Modelo Para Predecir Criptomonedas\\criptodata\\DOGE.xlsx\"\n",
    "\n",
    "# Leer el archivo inicial\n",
    "df = pd.read_excel(file_path, names=['time', 'open', 'high', 'low', 'close', 'volume', 'usdVolume'])\n",
    "\n",
    "# DataFrame principal vacío para almacenar todos los datos\n",
    "main_df = pd.DataFrame()\n",
    "\n",
    "# Las 4 criptomonedas que queremos considerar\n",
    "ratios = [\"BTC\", \"DOGE\", \"ETH\", \"QTU\"]\n",
    "\n",
    "# Ruta base donde se encuentran los archivos de datos\n",
    "base_path = r\"C:\\Users\\CRISTIAN CHAVEZ\\Documents\\GitHub\\AI_Project_Deep-Learning-Tensorflow-Keras\\Modelo Para Predecir Criptomonedas\\criptodata\"\n",
    "\n",
    "# Iterar sobre cada ratio\n",
    "for ratio in ratios:\n",
    "    print(ratio)\n",
    "    \n",
    "    # Obtener la ruta completa al archivo\n",
    "    dataset = os.path.join(base_path, f\"{ratio}.xlsx\")\n",
    "    \n",
    "    # Leer el archivo específico\n",
    "    df = pd.read_excel(dataset, names=['time', 'open', 'high', 'low', 'close', 'volume', 'usdVolume'])\n",
    "    \n",
    "    # Renombrar columnas de 'close' y 'volume' para incluir el ticker\n",
    "    df.rename(columns={\"close\": f\"{ratio}_close\", \"volume\": f\"{ratio}_volume\"}, inplace=True)\n",
    "    \n",
    "    # Establecer 'time' como índice para poder unirlos por este tiempo compartido\n",
    "    df.set_index(\"time\", inplace=True)\n",
    "    \n",
    "    # Ignorar otras columnas además de 'close' y 'volume'\n",
    "    df = df[[f\"{ratio}_close\", f\"{ratio}_volume\"]]\n",
    "    \n",
    "    # Si el DataFrame principal está vacío, simplemente asignar el DataFrame actual\n",
    "    if len(main_df) == 0:\n",
    "        main_df = df\n",
    "    else:\n",
    "        # De lo contrario, unir estos datos con el DataFrame principal\n",
    "        main_df = main_df.join(df)\n",
    "\n",
    "# Crear una nueva columna 'future' que es el valor de cierre futuro desplazado por 'FUTURE_PERIOD_PREDICT'\n",
    "main_df['future'] = main_df[f'{RATIO_TO_PREDICT}_close'].shift(-FUTURE_PERIOD_PREDICT)\n",
    "\n",
    "# Crear una columna 'target' que clasifica si el valor futuro es mayor que el valor actual\n",
    "main_df['target'] = list(map(classify, main_df[f'{RATIO_TO_PREDICT}_close'], main_df['future']))\n",
    "\n",
    "# Imprimir las primeras filas del DataFrame resultante\n",
    "print(main_df[[f\"{RATIO_TO_PREDICT}_close\", \"future\"]].head())"
   ]
  },
  {
   "cell_type": "code",
   "execution_count": 15,
   "id": "70221b91-191c-4e96-bfe0-910864a916dc",
   "metadata": {},
   "outputs": [
    {
     "name": "stdout",
     "output_type": "stream",
     "text": [
      "            BTC_close  BTC_volume  DOGE_close  DOGE_volume  ETH_close  \\\n",
      "time                                                                    \n",
      "1715356800    60793.4      15.101    0.144841     169877.0    2914.04   \n",
      "1715356860    60729.3       6.395    0.144513     245666.0    2907.25   \n",
      "1715356920    60744.5       7.272    0.144437     417310.0    2906.65   \n",
      "1715356980    60713.9       4.568    0.144207     311595.0    2904.65   \n",
      "1715357040    60683.8      18.586    0.144067     153653.0    2901.04   \n",
      "\n",
      "            ETH_volume  QTU_close  QTU_volume    future  target  \n",
      "time                                                             \n",
      "1715356800        45.7      3.629      1283.8  0.144067       0  \n",
      "1715356860        23.8      3.620        44.7  0.143458       0  \n",
      "1715356920       997.9      3.611        20.8  0.143589       0  \n",
      "1715356980        82.0      3.606        46.6  0.143913       0  \n",
      "1715357040        96.0      3.609        32.8  0.144547       1  \n"
     ]
    }
   ],
   "source": [
    "print(main_df.head())  # Imprimir las primeras filas del DataFrame resultante para verificar la estructura y los datos cargados correctamente."
   ]
  }
 ],
 "metadata": {
  "kernelspec": {
   "display_name": "Python 3 (ipykernel)",
   "language": "python",
   "name": "python3"
  },
  "language_info": {
   "codemirror_mode": {
    "name": "ipython",
    "version": 3
   },
   "file_extension": ".py",
   "mimetype": "text/x-python",
   "name": "python",
   "nbconvert_exporter": "python",
   "pygments_lexer": "ipython3",
   "version": "3.12.3"
  }
 },
 "nbformat": 4,
 "nbformat_minor": 5
}
