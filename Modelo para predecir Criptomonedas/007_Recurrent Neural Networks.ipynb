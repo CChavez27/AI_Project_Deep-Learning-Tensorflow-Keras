{
 "cells": [
  {
   "cell_type": "code",
   "execution_count": 1,
   "metadata": {},
   "outputs": [
    {
     "name": "stdout",
     "output_type": "stream",
     "text": [
      "(60000, 28, 28)\n",
      "(28, 28)\n"
     ]
    }
   ],
   "source": [
    "import tensorflow as tf  # Importar TensorFlow, una biblioteca de aprendizaje automático de código abierto desarrollada por Google.\n",
    "from tensorflow.keras.models import Sequential  # Importar el modelo secuencial de Keras, una forma de construir modelos de manera secuencial capa por capa.\n",
    "from tensorflow.keras.layers import Dense, Dropout, LSTM  # Importar capas específicas que serán utilizadas para construir el modelo.\n",
    "\n",
    "mnist = tf.keras.datasets.mnist  # Cargar el conjunto de datos MNIST. MNIST es un conjunto de datos que contiene imágenes de 28x28 píxeles de dígitos escritos a mano y sus etiquetas.\n",
    "(x_train, y_train), (x_test, y_test) = mnist.load_data()  # Desempaqueta las imágenes en x_train/x_test y las etiquetas en y_train/y_test.\n",
    "\n",
    "x_train = x_train/255.0  # Normalizar los datos de entrenamiento dividiendo cada valor de píxel por 255.0, lo que convierte los valores de píxel en el rango [0, 1].\n",
    "x_test = x_test/255.0  # Normalizar los datos de prueba de la misma manera que los datos de entrenamiento.\n",
    "\n",
    "print(x_train.shape)  # Imprimir la forma del conjunto de datos de entrenamiento. Esto mostrará el número de muestras y las dimensiones de las imágenes de entrenamiento.\n",
    "print(x_train[0].shape)  # Imprimir la forma de la primera imagen del conjunto de datos de entrenamiento. Esto mostrará las dimensiones de la primera imagen.\n"
   ]
  },
  {
   "cell_type": "code",
   "execution_count": 3,
   "metadata": {},
   "outputs": [
    {
     "name": "stdout",
     "output_type": "stream",
     "text": [
      "Epoch 1/3\n",
      "\u001b[1m1875/1875\u001b[0m \u001b[32m━━━━━━━━━━━━━━━━━━━━\u001b[0m\u001b[37m\u001b[0m \u001b[1m21s\u001b[0m 10ms/step - accuracy: 0.6142 - loss: 1.1153 - val_accuracy: 0.9557 - val_loss: 0.1458\n",
      "Epoch 2/3\n",
      "\u001b[1m1875/1875\u001b[0m \u001b[32m━━━━━━━━━━━━━━━━━━━━\u001b[0m\u001b[37m\u001b[0m \u001b[1m42s\u001b[0m 23ms/step - accuracy: 0.9508 - loss: 0.1722 - val_accuracy: 0.9650 - val_loss: 0.1166\n",
      "Epoch 3/3\n",
      "\u001b[1m1875/1875\u001b[0m \u001b[32m━━━━━━━━━━━━━━━━━━━━\u001b[0m\u001b[37m\u001b[0m \u001b[1m73s\u001b[0m 18ms/step - accuracy: 0.9698 - loss: 0.1095 - val_accuracy: 0.9800 - val_loss: 0.0655\n"
     ]
    },
    {
     "data": {
      "text/plain": [
       "<keras.src.callbacks.history.History at 0x187e06366c0>"
      ]
     },
     "execution_count": 3,
     "metadata": {},
     "output_type": "execute_result"
    }
   ],
   "source": [
    "model = Sequential()  # Inicializar un modelo secuencial, que permite apilar capas de manera secuencial.\n",
    "\n",
    "# Agregar una capa LSTM con 128 unidades de memoria, que recibe datos de entrada con la forma de las dimensiones de x_train, y usa la función de activación 'relu'. \n",
    "# La capa devuelve secuencias completas (return_sequences=True) en lugar de solo el último paso de tiempo.\n",
    "model.add(LSTM(128, input_shape=(x_train.shape[1:]), activation='relu', return_sequences=True))\n",
    "\n",
    "model.add(Dropout(0.2))  # Agregar una capa de abandono para evitar el sobreajuste. Esto desactiva aleatoriamente el 20% de las unidades de salida durante el entrenamiento.\n",
    "\n",
    "# Agregar otra capa LSTM con 128 unidades de memoria y activación 'relu'.\n",
    "model.add(LSTM(128, activation='relu'))\n",
    "\n",
    "model.add(Dropout(0.1))  # Agregar otra capa de abandono con una tasa de abandono del 10%.\n",
    "\n",
    "# Agregar una capa densa completamente conectada con 32 unidades y activación 'relu'.\n",
    "model.add(Dense(32, activation='relu'))\n",
    "\n",
    "model.add(Dropout(0.2))  # Agregar otra capa de abandono con una tasa de abandono del 20%.\n",
    "\n",
    "# Agregar una capa densa completamente conectada con 10 unidades (una para cada clase) y activación 'softmax'.\n",
    "model.add(Dense(10, activation='softmax'))\n",
    "\n",
    "# Configurar el optimizador Adam con una tasa de aprendizaje de 0.001 y un decaimiento de 1e-6.\n",
    "opt = tf.keras.optimizers.Adam(learning_rate=0.001, decay=1e-6)\n",
    "\n",
    "# Compilar el modelo con la función de pérdida 'sparse_categorical_crossentropy', el optimizador configurado anteriormente y la métrica de precisión.\n",
    "model.compile(\n",
    "    loss='sparse_categorical_crossentropy',\n",
    "    optimizer=opt,\n",
    "    metrics=['accuracy'],\n",
    ")\n",
    "\n",
    "# Entrenar el modelo utilizando los datos de entrenamiento (x_train, y_train) durante 3 épocas, con los datos de validación (x_test, y_test) utilizados para la validación.\n",
    "model.fit(x_train,\n",
    "          y_train,\n",
    "          epochs=3,\n",
    "          validation_data=(x_test, y_test))\n"
   ]
  }
 ],
 "metadata": {
  "kernelspec": {
   "display_name": "env",
   "language": "python",
   "name": "python3"
  },
  "language_info": {
   "codemirror_mode": {
    "name": "ipython",
    "version": 3
   },
   "file_extension": ".py",
   "mimetype": "text/x-python",
   "name": "python",
   "nbconvert_exporter": "python",
   "pygments_lexer": "ipython3",
   "version": "3.12.3"
  }
 },
 "nbformat": 4,
 "nbformat_minor": 2
}
