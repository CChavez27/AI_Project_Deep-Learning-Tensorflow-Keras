{
 "cells": [
  {
   "cell_type": "code",
   "execution_count": 1,
   "id": "b31bfd57-daaa-4f5a-a7a1-3cafec9caf74",
   "metadata": {},
   "outputs": [
    {
     "name": "stdout",
     "output_type": "stream",
     "text": [
      "Epoch 1/3\n"
     ]
    },
    {
     "name": "stderr",
     "output_type": "stream",
     "text": [
      "c:\\Users\\CRISTIAN CHAVEZ\\Documents\\GitHub\\AI_Project_Deep-Learning-Tensorflow-Keras\\env\\Lib\\site-packages\\keras\\src\\layers\\convolutional\\base_conv.py:107: UserWarning: Do not pass an `input_shape`/`input_dim` argument to a layer. When using Sequential models, prefer using an `Input(shape)` object as the first layer in the model instead.\n",
      "  super().__init__(activity_regularizer=activity_regularizer, **kwargs)\n"
     ]
    },
    {
     "name": "stdout",
     "output_type": "stream",
     "text": [
      "\u001b[1m546/546\u001b[0m \u001b[32m━━━━━━━━━━━━━━━━━━━━\u001b[0m\u001b[37m\u001b[0m \u001b[1m7s\u001b[0m 11ms/step - accuracy: 0.5951 - loss: 0.6571 - val_accuracy: 0.7278 - val_loss: 0.5524\n",
      "Epoch 2/3\n",
      "\u001b[1m546/546\u001b[0m \u001b[32m━━━━━━━━━━━━━━━━━━━━\u001b[0m\u001b[37m\u001b[0m \u001b[1m6s\u001b[0m 11ms/step - accuracy: 0.7426 - loss: 0.5221 - val_accuracy: 0.7491 - val_loss: 0.5234\n",
      "Epoch 3/3\n",
      "\u001b[1m546/546\u001b[0m \u001b[32m━━━━━━━━━━━━━━━━━━━━\u001b[0m\u001b[37m\u001b[0m \u001b[1m6s\u001b[0m 11ms/step - accuracy: 0.7670 - loss: 0.4871 - val_accuracy: 0.7515 - val_loss: 0.5167\n"
     ]
    },
    {
     "data": {
      "text/plain": [
       "<keras.src.callbacks.history.History at 0x1d8b6532000>"
      ]
     },
     "execution_count": 1,
     "metadata": {},
     "output_type": "execute_result"
    }
   ],
   "source": [
    "import tensorflow as tf                                                 # Importa TensorFlow y sus submódulos necesarios\n",
    "from tensorflow.keras.datasets import cifar10                           # Importa el conjunto de datos CIFAR-10\n",
    "from tensorflow.keras.preprocessing.image import ImageDataGenerator     # Importa generador de imágenes de Keras\n",
    "from tensorflow.keras.models import Sequential                          # Importa el modelo secuencial\n",
    "from tensorflow.keras.layers import Dense, Dropout, Activation, Flatten # Importa capas Dense, Dropout, Activation y Flatten\n",
    "from tensorflow.keras.layers import Conv2D, MaxPooling2D                # Importa capas Conv2D y MaxPooling2D\n",
    "\n",
    "import pickle           # Importa la biblioteca pickle para la serialización de datos\n",
    "import numpy as np      # Importa NumPy para operaciones numéricas\n",
    "\n",
    "\n",
    "# Carga los datos desde los archivos pickle\n",
    "# Abre el archivo \"X.pickle\" en modo lectura binaria\n",
    "pickle_in = open(\"X.pickle\", \"rb\")\n",
    "# Carga los datos de las imágenes desde el archivo y conviértelos a un array de numpy\n",
    "X = np.array(pickle.load(pickle_in))\n",
    "\n",
    "# Abre el archivo \"y.pickle\" en modo lectura binaria\n",
    "pickle_in = open(\"y.pickle\", \"rb\")\n",
    "# Carga las etiquetas de las imágenes desde el archivo y conviértelos a un array de numpy\n",
    "y = np.array(pickle.load(pickle_in))\n",
    "\n",
    "# Normaliza los datos\n",
    "# Divide cada valor de píxel por 255.0 para normalizar los datos de las imágenes a un rango [0, 1]\n",
    "X = X / 255.0\n",
    "\n",
    "# Construye el modelo\n",
    "model = Sequential()  # Inicializa un modelo secuencial\n",
    "\n",
    "# Añade una capa convolucional con 64 filtros y un tamaño de kernel de 3x3\n",
    "# Especifica la forma de entrada que corresponde a la de los datos de las imágenes\n",
    "model.add(Conv2D(64, (3, 3), input_shape=X.shape[1:]))\n",
    "model.add(Activation('relu'))  # Añade una función de activación ReLU\n",
    "model.add(MaxPooling2D(pool_size=(2, 2)))  # Añade una capa de max-pooling con un tamaño de pool de 2x2\n",
    "\n",
    "# Añade una segunda capa convolucional con 64 filtros y un tamaño de kernel de 3x3\n",
    "model.add(Conv2D(64, (3, 3)))\n",
    "model.add(Activation('relu'))  # Añade una función de activación ReLU\n",
    "model.add(MaxPooling2D(pool_size=(2, 2)))  # Añade una capa de max-pooling con un tamaño de pool de 2x2\n",
    "\n",
    "# Aplana las características 3D a un vector 1D\n",
    "model.add(Flatten())\n",
    "\n",
    "# Añade una capa densa con 64 unidades\n",
    "model.add(Dense(64))\n",
    "\n",
    "# Añade una capa densa con una unidad (salida)\n",
    "model.add(Dense(1))\n",
    "model.add(Activation('sigmoid'))  # Añade una función de activación sigmoide para la salida\n",
    "\n",
    "# Compila el modelo\n",
    "# Utiliza la pérdida de entropía cruzada binaria y el optimizador Adam\n",
    "# Mide la precisión durante el entrenamiento\n",
    "model.compile(loss='binary_crossentropy', optimizer='adam', metrics=['accuracy'])\n",
    "\n",
    "# Entrena el modelo\n",
    "# Utiliza un tamaño de lote de 32 y entrena por 3 épocas\n",
    "# Usa el 30% de los datos para la validación durante el entrenamiento\n",
    "model.fit(X, y, batch_size=32, epochs=3, validation_split=0.3)"
   ]
  }
 ],
 "metadata": {
  "kernelspec": {
   "display_name": "Python 3 (ipykernel)",
   "language": "python",
   "name": "python3"
  },
  "language_info": {
   "codemirror_mode": {
    "name": "ipython",
    "version": 3
   },
   "file_extension": ".py",
   "mimetype": "text/x-python",
   "name": "python",
   "nbconvert_exporter": "python",
   "pygments_lexer": "ipython3",
   "version": "3.12.3"
  }
 },
 "nbformat": 4,
 "nbformat_minor": 5
}
